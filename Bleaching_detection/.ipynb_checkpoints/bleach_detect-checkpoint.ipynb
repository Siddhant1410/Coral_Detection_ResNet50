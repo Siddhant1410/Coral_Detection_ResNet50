{
 "cells": [
  {
   "cell_type": "code",
   "execution_count": 1,
   "id": "a6dc2d82",
   "metadata": {},
   "outputs": [],
   "source": [
    "# !pip install tensorflow==2.9.0\n",
    "# !pip install opencv-python==4.5.5.64\n",
    "# !pip install numpy==1.19.2\n",
    "# !pip install pandas==1.3.2\n",
    "# !pip install scipy==1.7.1"
   ]
  },
  {
   "cell_type": "code",
   "execution_count": 6,
   "id": "901b61f2",
   "metadata": {},
   "outputs": [],
   "source": [
    "import cv2\n",
    "from color_recognition_api import color_histogram_feature_extraction\n",
    "from color_recognition_api import knn_classifier\n",
    "import os\n",
    "import os.path"
   ]
  },
  {
   "cell_type": "code",
   "execution_count": 10,
   "id": "9e95d6c7",
   "metadata": {},
   "outputs": [
    {
     "name": "stdout",
     "output_type": "stream",
     "text": [
      "Almost Done...\n"
     ]
    }
   ],
   "source": [
    "directory_path = './data'  # Replace with your directory path\n",
    "output_directory_path = './results'  # Replace with your desired output directory path\n",
    "\n",
    "\n",
    "# checking whether the training data is ready\n",
    "PATH = './training.data'\n",
    "if os.path.isfile(PATH) and os.access(PATH, os.R_OK):\n",
    "    print('Almost Done...')\n",
    "else:\n",
    "    print('training data is being created...')\n",
    "    open('training.data', 'w')\n",
    "    color_histogram_feature_extraction.training()\n"
   ]
  },
  {
   "cell_type": "code",
   "execution_count": 14,
   "id": "be1db7e7",
   "metadata": {},
   "outputs": [
    {
     "name": "stdout",
     "output_type": "stream",
     "text": [
      "Saved: ./results\\brain coral (1).jpg\n",
      "Saved: ./results\\branching (48).jpg\n",
      "Saved: ./results\\stag_bleach.jpg\n",
      "Saved: ./results\\test.jpg\n"
     ]
    }
   ],
   "source": [
    "    for filename in os.listdir(directory_path):\n",
    "        # Check if the file is an image\n",
    "        if filename.endswith('.jpg') or filename.endswith('.png') or filename.endswith('.jpeg'):\n",
    "            # read the test image\n",
    "            source_image = cv2.imread(os.path.join(directory_path, filename))\n",
    "            prediction = 'n.a.'\n",
    "            # get the prediction\n",
    "            color_histogram_feature_extraction.color_histogram_of_test_image(source_image)\n",
    "            prediction = knn_classifier.main('training.data', 'test.data')\n",
    "            if prediction == \"fair\":\n",
    "                text = \"B.D\"\n",
    "            else:\n",
    "                text = \"N.B.D\"\n",
    "            cv2.putText(\n",
    "                source_image,\n",
    "                text,\n",
    "                (15, 45),\n",
    "                cv2.FONT_HERSHEY_PLAIN,\n",
    "                3,\n",
    "                200,\n",
    "                5\n",
    "            )\n",
    "\n",
    "\n",
    "            output_filepath = os.path.join(output_directory_path, filename)\n",
    "            cv2.imwrite(output_filepath, source_image)\n",
    "            print(f\"Saved: {output_filepath}\")\n"
   ]
  },
  {
   "cell_type": "code",
   "execution_count": 16,
   "id": "79edbdaa",
   "metadata": {},
   "outputs": [
    {
     "ename": "FileNotFoundError",
     "evalue": "[WinError 3] The system cannot find the path specified: './path_to_directory/'",
     "output_type": "error",
     "traceback": [
      "\u001b[1;31m---------------------------------------------------------------------------\u001b[0m",
      "\u001b[1;31mFileNotFoundError\u001b[0m                         Traceback (most recent call last)",
      "Cell \u001b[1;32mIn[16], line 8\u001b[0m\n\u001b[0;32m      5\u001b[0m directory_path \u001b[38;5;241m=\u001b[39m \u001b[38;5;124m'\u001b[39m\u001b[38;5;124m./path_to_directory/\u001b[39m\u001b[38;5;124m'\u001b[39m  \u001b[38;5;66;03m# Replace with your directory path\u001b[39;00m\n\u001b[0;32m      7\u001b[0m \u001b[38;5;66;03m# List all files in the directory\u001b[39;00m\n\u001b[1;32m----> 8\u001b[0m image_files \u001b[38;5;241m=\u001b[39m [f \u001b[38;5;28;01mfor\u001b[39;00m f \u001b[38;5;129;01min\u001b[39;00m \u001b[43mos\u001b[49m\u001b[38;5;241;43m.\u001b[39;49m\u001b[43mlistdir\u001b[49m\u001b[43m(\u001b[49m\u001b[43mdirectory_path\u001b[49m\u001b[43m)\u001b[49m \u001b[38;5;28;01mif\u001b[39;00m f\u001b[38;5;241m.\u001b[39mendswith((\u001b[38;5;124m'\u001b[39m\u001b[38;5;124m.png\u001b[39m\u001b[38;5;124m'\u001b[39m, \u001b[38;5;124m'\u001b[39m\u001b[38;5;124m.jpg\u001b[39m\u001b[38;5;124m'\u001b[39m, \u001b[38;5;124m'\u001b[39m\u001b[38;5;124m.jpeg\u001b[39m\u001b[38;5;124m'\u001b[39m))]\n\u001b[0;32m     10\u001b[0m \u001b[38;5;66;03m# Create a figure to display the images\u001b[39;00m\n\u001b[0;32m     11\u001b[0m plt\u001b[38;5;241m.\u001b[39mfigure(figsize\u001b[38;5;241m=\u001b[39m(\u001b[38;5;28mlen\u001b[39m(image_files) \u001b[38;5;241m*\u001b[39m \u001b[38;5;241m5\u001b[39m, \u001b[38;5;241m5\u001b[39m))  \u001b[38;5;66;03m# Adjust the figure size based on the number of images\u001b[39;00m\n",
      "\u001b[1;31mFileNotFoundError\u001b[0m: [WinError 3] The system cannot find the path specified: './path_to_directory/'"
     ]
    }
   ],
   "source": [
    "import matplotlib.pyplot as plt\n",
    "import matplotlib.image as mpimg\n",
    "\n",
    "# Specify the directory path\n",
    "directory_path = './results'  # Replace with your directory path\n",
    "\n",
    "# List all files in the directory\n",
    "image_files = [f for f in os.listdir(directory_path) if f.endswith(('.png', '.jpg', '.jpeg'))]\n",
    "\n",
    "# Create a figure to display the images\n",
    "plt.figure(figsize=(len(image_files) * 5, 5))  # Adjust the figure size based on the number of images\n",
    "\n",
    "# Loop through each image file, resize it and display it\n",
    "for i, image_file in enumerate(image_files, start=1):\n",
    "    img_path = os.path.join(directory_path, image_file)\n",
    "    img = cv2.imread(img_path)\n",
    "    img_resized = cv2.resize(img, (320, 320))\n",
    "    \n",
    "    # Convert image from BGR to RGB (as OpenCV loads images in BGR format by default)\n",
    "    img_rgb = cv2.cvtColor(img_resized, cv2.COLOR_BGR2RGB)\n",
    "    \n",
    "    plt.subplot(1, len(image_files), i)  # 1 row, 'len(image_files)' columns, 'i'-th plot\n",
    "    plt.imshow(img_rgb)\n",
    "    plt.axis('off')  # Hide axes for better visualization\n",
    "\n",
    "plt.tight_layout()\n",
    "plt.show()\n"
   ]
  },
  {
   "cell_type": "code",
   "execution_count": null,
   "id": "d1e53bb3",
   "metadata": {},
   "outputs": [],
   "source": []
  }
 ],
 "metadata": {
  "kernelspec": {
   "display_name": "convnext",
   "language": "python",
   "name": "convnext"
  },
  "language_info": {
   "codemirror_mode": {
    "name": "ipython",
    "version": 3
   },
   "file_extension": ".py",
   "mimetype": "text/x-python",
   "name": "python",
   "nbconvert_exporter": "python",
   "pygments_lexer": "ipython3",
   "version": "3.8.0"
  }
 },
 "nbformat": 4,
 "nbformat_minor": 5
}
